{
 "cells": [
  {
   "cell_type": "code",
   "execution_count": 1,
   "id": "7b73554c",
   "metadata": {
    "_cell_guid": "b1076dfc-b9ad-4769-8c92-a6c4dae69d19",
    "_uuid": "8f2839f25d086af736a60e9eeb907d3b93b6e0e5",
    "execution": {
     "iopub.execute_input": "2025-05-08T12:26:54.465697Z",
     "iopub.status.busy": "2025-05-08T12:26:54.465402Z",
     "iopub.status.idle": "2025-05-08T12:27:04.020947Z",
     "shell.execute_reply": "2025-05-08T12:27:04.019405Z"
    },
    "papermill": {
     "duration": 9.56349,
     "end_time": "2025-05-08T12:27:04.023643",
     "exception": false,
     "start_time": "2025-05-08T12:26:54.460153",
     "status": "completed"
    },
    "tags": []
   },
   "outputs": [
    {
     "name": "stdout",
     "output_type": "stream",
     "text": [
      "Requirement already satisfied: pyspark in /usr/local/lib/python3.11/dist-packages (3.5.4)\r\n",
      "Requirement already satisfied: py4j==0.10.9.7 in /usr/local/lib/python3.11/dist-packages (from pyspark) (0.10.9.7)\r\n"
     ]
    }
   ],
   "source": [
    "import os\n",
    "import numpy as np\n",
    "import pandas as pd\n",
    "from pyspark.sql import SparkSession\n",
    "from pyspark.ml import Pipeline\n",
    "from pyspark.ml.feature import StringIndexer, VectorAssembler, StandardScaler\n",
    "from pyspark.ml.classification import LogisticRegression, RandomForestClassifier, GBTClassifier\n",
    "from pyspark.ml.evaluation import BinaryClassificationEvaluator, MulticlassClassificationEvaluator\n",
    "from pyspark.ml.tuning import ParamGridBuilder, CrossValidator\n",
    "import matplotlib.pyplot as plt\n",
    "import seaborn as sns\n",
    "from pyspark.sql.functions import col, when, count\n",
    "!pip install pyspark"
   ]
  },
  {
   "cell_type": "code",
   "execution_count": 2,
   "id": "90ec74d0",
   "metadata": {
    "execution": {
     "iopub.execute_input": "2025-05-08T12:27:04.033726Z",
     "iopub.status.busy": "2025-05-08T12:27:04.032976Z",
     "iopub.status.idle": "2025-05-08T12:27:12.131923Z",
     "shell.execute_reply": "2025-05-08T12:27:12.130827Z"
    },
    "papermill": {
     "duration": 8.106191,
     "end_time": "2025-05-08T12:27:12.134043",
     "exception": false,
     "start_time": "2025-05-08T12:27:04.027852",
     "status": "completed"
    },
    "tags": []
   },
   "outputs": [
    {
     "name": "stderr",
     "output_type": "stream",
     "text": [
      "Setting default log level to \"WARN\".\n",
      "To adjust logging level use sc.setLogLevel(newLevel). For SparkR, use setLogLevel(newLevel).\n",
      "25/05/08 12:27:09 WARN NativeCodeLoader: Unable to load native-hadoop library for your platform... using builtin-java classes where applicable\n"
     ]
    }
   ],
   "source": [
    "# Inisialisasi Spark Session\n",
    "spark = SparkSession.builder \\\n",
    "    .appName(\"Online Payments Fraud Detection\") \\\n",
    "    .config(\"spark.driver.memory\", \"8g\") \\\n",
    "    .config(\"spark.executor.memory\", \"8g\") \\\n",
    "    .getOrCreate()"
   ]
  },
  {
   "cell_type": "code",
   "execution_count": 3,
   "id": "a130bcc9",
   "metadata": {
    "execution": {
     "iopub.execute_input": "2025-05-08T12:27:12.148760Z",
     "iopub.status.busy": "2025-05-08T12:27:12.148278Z",
     "iopub.status.idle": "2025-05-08T12:27:31.776974Z",
     "shell.execute_reply": "2025-05-08T12:27:31.776078Z"
    },
    "papermill": {
     "duration": 19.637653,
     "end_time": "2025-05-08T12:27:31.778427",
     "exception": false,
     "start_time": "2025-05-08T12:27:12.140774",
     "status": "completed"
    },
    "tags": []
   },
   "outputs": [
    {
     "name": "stderr",
     "output_type": "stream",
     "text": [
      "[Stage 1:===========================================================>                   (3 + 1) / 4]\r"
     ]
    },
    {
     "name": "stdout",
     "output_type": "stream",
     "text": [
      "Schema Dataset:\n",
      "root\n",
      " |-- step: integer (nullable = true)\n",
      " |-- type: string (nullable = true)\n",
      " |-- amount: double (nullable = true)\n",
      " |-- nameOrig: string (nullable = true)\n",
      " |-- oldbalanceOrg: double (nullable = true)\n",
      " |-- newbalanceOrig: double (nullable = true)\n",
      " |-- nameDest: string (nullable = true)\n",
      " |-- oldbalanceDest: double (nullable = true)\n",
      " |-- newbalanceDest: double (nullable = true)\n",
      " |-- isFraud: integer (nullable = true)\n",
      " |-- isFlaggedFraud: integer (nullable = true)\n",
      "\n"
     ]
    },
    {
     "name": "stderr",
     "output_type": "stream",
     "text": [
      "                                                                                                    \r"
     ]
    }
   ],
   "source": [
    "# Path ke dataset (pastikan file CSV sudah di-upload ke environment Kaggle)\n",
    "data_path = \"/kaggle/input/online-payments-fraud-detection-dataset/PS_20174392719_1491204439457_log.csv\"\n",
    "\n",
    "# Baca dataset\n",
    "df = spark.read.csv(data_path, header=True, inferSchema=True)\n",
    "\n",
    "# Tampilkan informasi dasar dataset\n",
    "print(\"Schema Dataset:\")\n",
    "df.printSchema()\n"
   ]
  },
  {
   "cell_type": "code",
   "execution_count": 4,
   "id": "ebb2fcc6",
   "metadata": {
    "execution": {
     "iopub.execute_input": "2025-05-08T12:27:31.788193Z",
     "iopub.status.busy": "2025-05-08T12:27:31.787856Z",
     "iopub.status.idle": "2025-05-08T12:27:34.161945Z",
     "shell.execute_reply": "2025-05-08T12:27:34.160685Z"
    },
    "papermill": {
     "duration": 2.381304,
     "end_time": "2025-05-08T12:27:34.163958",
     "exception": false,
     "start_time": "2025-05-08T12:27:31.782654",
     "status": "completed"
    },
    "tags": []
   },
   "outputs": [
    {
     "name": "stdout",
     "output_type": "stream",
     "text": [
      "\n",
      "Jumlah Baris dan Kolom:\n"
     ]
    },
    {
     "name": "stderr",
     "output_type": "stream",
     "text": [
      "[Stage 2:>                                                                              (0 + 4) / 4]\r"
     ]
    },
    {
     "name": "stdout",
     "output_type": "stream",
     "text": [
      "Jumlah baris: 6362620, Jumlah kolom: 11\n"
     ]
    },
    {
     "name": "stderr",
     "output_type": "stream",
     "text": [
      "                                                                                                    \r"
     ]
    }
   ],
   "source": [
    "\n",
    "print(\"\\nJumlah Baris dan Kolom:\")\n",
    "print(f\"Jumlah baris: {df.count()}, Jumlah kolom: {len(df.columns)}\")"
   ]
  },
  {
   "cell_type": "code",
   "execution_count": 5,
   "id": "97607d56",
   "metadata": {
    "execution": {
     "iopub.execute_input": "2025-05-08T12:27:34.174322Z",
     "iopub.status.busy": "2025-05-08T12:27:34.173997Z",
     "iopub.status.idle": "2025-05-08T12:27:34.585597Z",
     "shell.execute_reply": "2025-05-08T12:27:34.584772Z"
    },
    "papermill": {
     "duration": 0.419246,
     "end_time": "2025-05-08T12:27:34.587697",
     "exception": false,
     "start_time": "2025-05-08T12:27:34.168451",
     "status": "completed"
    },
    "tags": []
   },
   "outputs": [
    {
     "name": "stdout",
     "output_type": "stream",
     "text": [
      "\n",
      "Mengecek Data Awal:\n",
      "+----+--------+--------+-----------+-------------+--------------+-----------+--------------+--------------+-------+--------------+\n",
      "|step|    type|  amount|   nameOrig|oldbalanceOrg|newbalanceOrig|   nameDest|oldbalanceDest|newbalanceDest|isFraud|isFlaggedFraud|\n",
      "+----+--------+--------+-----------+-------------+--------------+-----------+--------------+--------------+-------+--------------+\n",
      "|   1| PAYMENT| 9839.64|C1231006815|     170136.0|     160296.36|M1979787155|           0.0|           0.0|      0|             0|\n",
      "|   1| PAYMENT| 1864.28|C1666544295|      21249.0|      19384.72|M2044282225|           0.0|           0.0|      0|             0|\n",
      "|   1|TRANSFER|   181.0|C1305486145|        181.0|           0.0| C553264065|           0.0|           0.0|      1|             0|\n",
      "|   1|CASH_OUT|   181.0| C840083671|        181.0|           0.0|  C38997010|       21182.0|           0.0|      1|             0|\n",
      "|   1| PAYMENT|11668.14|C2048537720|      41554.0|      29885.86|M1230701703|           0.0|           0.0|      0|             0|\n",
      "+----+--------+--------+-----------+-------------+--------------+-----------+--------------+--------------+-------+--------------+\n",
      "only showing top 5 rows\n",
      "\n"
     ]
    }
   ],
   "source": [
    "print(\"\\nMengecek Data Awal:\")\n",
    "df.show(5)\n"
   ]
  },
  {
   "cell_type": "code",
   "execution_count": 6,
   "id": "e8cba705",
   "metadata": {
    "execution": {
     "iopub.execute_input": "2025-05-08T12:27:34.604730Z",
     "iopub.status.busy": "2025-05-08T12:27:34.604314Z",
     "iopub.status.idle": "2025-05-08T12:28:25.007031Z",
     "shell.execute_reply": "2025-05-08T12:28:25.005637Z"
    },
    "papermill": {
     "duration": 50.413398,
     "end_time": "2025-05-08T12:28:25.008911",
     "exception": false,
     "start_time": "2025-05-08T12:27:34.595513",
     "status": "completed"
    },
    "tags": []
   },
   "outputs": [
    {
     "name": "stdout",
     "output_type": "stream",
     "text": [
      "\n",
      "Deskripsi Statistik:\n"
     ]
    },
    {
     "name": "stderr",
     "output_type": "stream",
     "text": [
      "25/05/08 12:27:35 WARN SparkStringUtils: Truncated the string representation of a plan since it was too large. This behavior can be adjusted by setting 'spark.sql.debug.maxToStringFields'.\n",
      "[Stage 6:===========================================================>                   (3 + 1) / 4]\r"
     ]
    },
    {
     "name": "stdout",
     "output_type": "stream",
     "text": [
      "+-------+------------------+--------+------------------+-----------+-----------------+-----------------+-----------+------------------+------------------+--------------------+--------------------+\n",
      "|summary|              step|    type|            amount|   nameOrig|    oldbalanceOrg|   newbalanceOrig|   nameDest|    oldbalanceDest|    newbalanceDest|             isFraud|      isFlaggedFraud|\n",
      "+-------+------------------+--------+------------------+-----------+-----------------+-----------------+-----------+------------------+------------------+--------------------+--------------------+\n",
      "|  count|           6362620| 6362620|           6362620|    6362620|          6362620|          6362620|    6362620|           6362620|           6362620|             6362620|             6362620|\n",
      "|   mean|243.39724563151657|    NULL|179861.90354913412|       NULL|833883.1040744719|855113.6685785714|       NULL|1100701.6665196654|1224996.3982019408|0.001290820448180152| 2.51468734577894E-6|\n",
      "| stddev|142.33197104912588|    NULL| 603858.2314629498|       NULL|2888242.673037545|2924048.502954253|       NULL|3399180.1129944855|3674128.9421195714|0.035904796801604424|0.001585774705736...|\n",
      "|    min|                 1| CASH_IN|               0.0|C1000000639|              0.0|              0.0|C1000004082|               0.0|               0.0|                   0|                   0|\n",
      "|    max|               743|TRANSFER|     9.244551664E7| C999999784|    5.958504037E7|    4.958504037E7| M999999784|    3.5601588935E8|    3.5617927892E8|                   1|                   1|\n",
      "+-------+------------------+--------+------------------+-----------+-----------------+-----------------+-----------+------------------+------------------+--------------------+--------------------+\n",
      "\n"
     ]
    },
    {
     "name": "stderr",
     "output_type": "stream",
     "text": [
      "                                                                                                    \r"
     ]
    }
   ],
   "source": [
    "print(\"\\nDeskripsi Statistik:\")\n",
    "df.describe().show()"
   ]
  },
  {
   "cell_type": "code",
   "execution_count": 7,
   "id": "1f5de7e9",
   "metadata": {
    "execution": {
     "iopub.execute_input": "2025-05-08T12:28:25.026610Z",
     "iopub.status.busy": "2025-05-08T12:28:25.026212Z",
     "iopub.status.idle": "2025-05-08T12:28:30.947299Z",
     "shell.execute_reply": "2025-05-08T12:28:30.946338Z"
    },
    "papermill": {
     "duration": 5.932065,
     "end_time": "2025-05-08T12:28:30.949198",
     "exception": false,
     "start_time": "2025-05-08T12:28:25.017133",
     "status": "completed"
    },
    "tags": []
   },
   "outputs": [
    {
     "name": "stdout",
     "output_type": "stream",
     "text": [
      "\n",
      "Distribusi Label Fraud:\n"
     ]
    },
    {
     "name": "stderr",
     "output_type": "stream",
     "text": [
      "[Stage 9:===================>                                                           (1 + 3) / 4]\r"
     ]
    },
    {
     "name": "stdout",
     "output_type": "stream",
     "text": [
      "+-------+-------+\n",
      "|isFraud|  count|\n",
      "+-------+-------+\n",
      "|      0|6354407|\n",
      "|      1|   8213|\n",
      "+-------+-------+\n",
      "\n"
     ]
    },
    {
     "name": "stderr",
     "output_type": "stream",
     "text": [
      "                                                                                                    \r"
     ]
    }
   ],
   "source": [
    "# Analisis distribusi kelas target (isFraud)\n",
    "print(\"\\nDistribusi Label Fraud:\")\n",
    "df.groupBy(\"isFraud\").count().orderBy(\"isFraud\").show()"
   ]
  },
  {
   "cell_type": "code",
   "execution_count": 8,
   "id": "9b882a01",
   "metadata": {
    "execution": {
     "iopub.execute_input": "2025-05-08T12:28:30.967539Z",
     "iopub.status.busy": "2025-05-08T12:28:30.967111Z",
     "iopub.status.idle": "2025-05-08T12:28:37.900196Z",
     "shell.execute_reply": "2025-05-08T12:28:37.897224Z"
    },
    "papermill": {
     "duration": 6.944368,
     "end_time": "2025-05-08T12:28:37.902204",
     "exception": false,
     "start_time": "2025-05-08T12:28:30.957836",
     "status": "completed"
    },
    "tags": []
   },
   "outputs": [
    {
     "name": "stderr",
     "output_type": "stream",
     "text": [
      "[Stage 15:>                                                                             (0 + 4) / 4]\r"
     ]
    },
    {
     "name": "stdout",
     "output_type": "stream",
     "text": [
      "\n",
      "Persentase transaksi fraud: 0.13%\n"
     ]
    },
    {
     "name": "stderr",
     "output_type": "stream",
     "text": [
      "                                                                                                    \r"
     ]
    }
   ],
   "source": [
    "# Menghitung persentase fraud\n",
    "fraud_percentage = df.filter(col(\"isFraud\") == 1).count() / df.count() * 100\n",
    "print(f\"\\nPersentase transaksi fraud: {fraud_percentage:.2f}%\")\n"
   ]
  },
  {
   "cell_type": "code",
   "execution_count": 9,
   "id": "e081019e",
   "metadata": {
    "execution": {
     "iopub.execute_input": "2025-05-08T12:28:37.922458Z",
     "iopub.status.busy": "2025-05-08T12:28:37.921670Z",
     "iopub.status.idle": "2025-05-08T12:29:18.913389Z",
     "shell.execute_reply": "2025-05-08T12:29:18.905667Z"
    },
    "papermill": {
     "duration": 41.003967,
     "end_time": "2025-05-08T12:29:18.915304",
     "exception": false,
     "start_time": "2025-05-08T12:28:37.911337",
     "status": "completed"
    },
    "tags": []
   },
   "outputs": [
    {
     "name": "stderr",
     "output_type": "stream",
     "text": [
      "                                                                                                    \r"
     ]
    },
    {
     "name": "stdout",
     "output_type": "stream",
     "text": [
      "\n",
      "Jumlah data training: 5089858\n"
     ]
    },
    {
     "name": "stderr",
     "output_type": "stream",
     "text": [
      "[Stage 24:=======================================>                                      (2 + 2) / 4]\r"
     ]
    },
    {
     "name": "stdout",
     "output_type": "stream",
     "text": [
      "Jumlah data testing: 1272762\n"
     ]
    },
    {
     "name": "stderr",
     "output_type": "stream",
     "text": [
      "                                                                                                    \r"
     ]
    }
   ],
   "source": [
    "# Konversi kolom kategorikal menjadi numerik\n",
    "categorical_columns = [\"type\"]\n",
    "indexers = [StringIndexer(inputCol=column, outputCol=column+\"_index\").fit(df) for column in categorical_columns]\n",
    "\n",
    "# Konversi oldbalance dan newbalance menjadi satu fitur (delta balance)\n",
    "df = df.withColumn(\"balanceDiff\", col(\"newbalanceOrig\") - col(\"oldbalanceOrg\"))\n",
    "df = df.withColumn(\"destBalanceDiff\", col(\"newbalanceDest\") - col(\"oldbalanceDest\"))\n",
    "\n",
    "# Pilih kolom yang akan digunakan untuk pelatihan\n",
    "feature_columns = [\"step\", \"amount\", \"oldbalanceOrg\", \"newbalanceOrig\", \n",
    "                  \"oldbalanceDest\", \"newbalanceDest\", \"balanceDiff\", \"destBalanceDiff\", \"type_index\"]\n",
    "\n",
    "# Persiapkan data untuk modeling\n",
    "assembler = VectorAssembler(inputCols=feature_columns, outputCol=\"features_unscaled\")\n",
    "scaler = StandardScaler(inputCol=\"features_unscaled\", outputCol=\"features\", withStd=True, withMean=True)\n",
    "\n",
    "# Split data menjadi training dan testing set\n",
    "(train_data, test_data) = df.randomSplit([0.8, 0.2], seed=42)\n",
    "\n",
    "print(f\"\\nJumlah data training: {train_data.count()}\")\n",
    "print(f\"Jumlah data testing: {test_data.count()}\")"
   ]
  },
  {
   "cell_type": "code",
   "execution_count": 10,
   "id": "cc86a6a4",
   "metadata": {
    "execution": {
     "iopub.execute_input": "2025-05-08T12:29:18.936888Z",
     "iopub.status.busy": "2025-05-08T12:29:18.936448Z",
     "iopub.status.idle": "2025-05-08T12:29:18.945469Z",
     "shell.execute_reply": "2025-05-08T12:29:18.944427Z"
    },
    "papermill": {
     "duration": 0.022144,
     "end_time": "2025-05-08T12:29:18.947214",
     "exception": false,
     "start_time": "2025-05-08T12:29:18.925070",
     "status": "completed"
    },
    "tags": []
   },
   "outputs": [],
   "source": [
    "# Fungsi untuk melatih model dan evaluasi\n",
    "def train_and_evaluate_model(classifier, model_name):\n",
    "    # Buat pipeline\n",
    "    pipeline = Pipeline(stages=indexers + [assembler, scaler, classifier])\n",
    "    \n",
    "    # Latih model\n",
    "    model = pipeline.fit(train_data)\n",
    "    \n",
    "    # Prediksi\n",
    "    predictions = model.transform(test_data)\n",
    "    \n",
    "    # Evaluasi\n",
    "    binary_evaluator = BinaryClassificationEvaluator(labelCol=\"isFraud\")\n",
    "    auc = binary_evaluator.evaluate(predictions)\n",
    "    \n",
    "    multi_evaluator = MulticlassClassificationEvaluator(labelCol=\"isFraud\", metricName=\"accuracy\")\n",
    "    accuracy = multi_evaluator.evaluate(predictions)\n",
    "    \n",
    "    multi_evaluator = MulticlassClassificationEvaluator(labelCol=\"isFraud\", metricName=\"f1\")\n",
    "    f1 = multi_evaluator.evaluate(predictions)\n",
    "    \n",
    "    print(f\"\\n--- Hasil Evaluasi Model {model_name} ---\")\n",
    "    print(f\"AUC: {auc:.4f}\")\n",
    "    print(f\"Accuracy: {accuracy:.4f}\")\n",
    "    print(f\"F1 Score: {f1:.4f}\")\n",
    "    \n",
    "    return model, predictions, auc, accuracy, f1"
   ]
  },
  {
   "cell_type": "code",
   "execution_count": 11,
   "id": "2bd66ecf",
   "metadata": {
    "execution": {
     "iopub.execute_input": "2025-05-08T12:29:18.969420Z",
     "iopub.status.busy": "2025-05-08T12:29:18.968593Z",
     "iopub.status.idle": "2025-05-08T12:41:35.111167Z",
     "shell.execute_reply": "2025-05-08T12:41:35.110297Z"
    },
    "papermill": {
     "duration": 736.155963,
     "end_time": "2025-05-08T12:41:35.113543",
     "exception": false,
     "start_time": "2025-05-08T12:29:18.957580",
     "status": "completed"
    },
    "tags": []
   },
   "outputs": [
    {
     "name": "stderr",
     "output_type": "stream",
     "text": [
      "                                                                                                    \r"
     ]
    },
    {
     "name": "stdout",
     "output_type": "stream",
     "text": [
      "\n",
      "--- Hasil Evaluasi Model Logistic Regression ---\n",
      "AUC: 0.9561\n",
      "Accuracy: 0.9987\n",
      "F1 Score: 0.9981\n"
     ]
    },
    {
     "name": "stderr",
     "output_type": "stream",
     "text": [
      "                                                                                                    \r"
     ]
    },
    {
     "name": "stdout",
     "output_type": "stream",
     "text": [
      "\n",
      "--- Hasil Evaluasi Model Random Forest ---\n",
      "AUC: 0.9838\n",
      "Accuracy: 0.9994\n",
      "F1 Score: 0.9993\n"
     ]
    },
    {
     "name": "stderr",
     "output_type": "stream",
     "text": [
      "[Stage 216:======================================>                                      (2 + 2) / 4]\r"
     ]
    },
    {
     "name": "stdout",
     "output_type": "stream",
     "text": [
      "\n",
      "--- Hasil Evaluasi Model Gradient Boosted Trees ---\n",
      "AUC: 0.9943\n",
      "Accuracy: 0.9995\n",
      "F1 Score: 0.9995\n"
     ]
    },
    {
     "name": "stderr",
     "output_type": "stream",
     "text": [
      "                                                                                                    \r"
     ]
    }
   ],
   "source": [
    "\n",
    "# === 1. LOGISTIC REGRESSION ===\n",
    "lr = LogisticRegression(labelCol=\"isFraud\", featuresCol=\"features\", maxIter=10, regParam=0.1)\n",
    "lr_model, lr_predictions, lr_auc, lr_accuracy, lr_f1 = train_and_evaluate_model(lr, \"Logistic Regression\")\n",
    "\n",
    "# === 2. RANDOM FOREST ===\n",
    "rf = RandomForestClassifier(labelCol=\"isFraud\", featuresCol=\"features\", numTrees=100)\n",
    "rf_model, rf_predictions, rf_auc, rf_accuracy, rf_f1 = train_and_evaluate_model(rf, \"Random Forest\")\n",
    "\n",
    "# === 3. GRADIENT BOOSTED TREES ===\n",
    "gbt = GBTClassifier(labelCol=\"isFraud\", featuresCol=\"features\", maxIter=10)\n",
    "gbt_model, gbt_predictions, gbt_auc, gbt_accuracy, gbt_f1 = train_and_evaluate_model(gbt, \"Gradient Boosted Trees\")\n"
   ]
  },
  {
   "cell_type": "code",
   "execution_count": 12,
   "id": "ab74141a",
   "metadata": {
    "execution": {
     "iopub.execute_input": "2025-05-08T12:41:35.152928Z",
     "iopub.status.busy": "2025-05-08T12:41:35.152569Z",
     "iopub.status.idle": "2025-05-08T12:41:36.722134Z",
     "shell.execute_reply": "2025-05-08T12:41:36.720804Z"
    },
    "papermill": {
     "duration": 1.589472,
     "end_time": "2025-05-08T12:41:36.724397",
     "exception": false,
     "start_time": "2025-05-08T12:41:35.134925",
     "status": "completed"
    },
    "tags": []
   },
   "outputs": [
    {
     "name": "stdout",
     "output_type": "stream",
     "text": [
      "\n",
      "--- Perbandingan Performa Model ---\n"
     ]
    },
    {
     "name": "stderr",
     "output_type": "stream",
     "text": [
      "                                                                                                    \r"
     ]
    },
    {
     "name": "stdout",
     "output_type": "stream",
     "text": [
      "+--------------------+------------------+------------------+------------------+\n",
      "|               Model|               AUC|          Accuracy|          F1 Score|\n",
      "+--------------------+------------------+------------------+------------------+\n",
      "| Logistic Regression|0.9561096419506774|0.9987224634299264|0.9981360710430155|\n",
      "|       Random Forest|0.9838211894975691| 0.999404444821577|0.9993192606776488|\n",
      "|Gradient Boosted ...|0.9942764447691933|0.9995097276631452|0.9994569682434936|\n",
      "+--------------------+------------------+------------------+------------------+\n",
      "\n"
     ]
    }
   ],
   "source": [
    "\n",
    "# Perbandingan performa model\n",
    "model_comparison = spark.createDataFrame([\n",
    "    (\"Logistic Regression\", lr_auc, lr_accuracy, lr_f1),\n",
    "    (\"Random Forest\", rf_auc, rf_accuracy, rf_f1),\n",
    "    (\"Gradient Boosted Trees\", gbt_auc, gbt_accuracy, gbt_f1)\n",
    "], [\"Model\", \"AUC\", \"Accuracy\", \"F1 Score\"])\n",
    "\n",
    "print(\"\\n--- Perbandingan Performa Model ---\")\n",
    "model_comparison.show()\n"
   ]
  },
  {
   "cell_type": "code",
   "execution_count": 13,
   "id": "cb28e902",
   "metadata": {
    "execution": {
     "iopub.execute_input": "2025-05-08T12:41:36.768905Z",
     "iopub.status.busy": "2025-05-08T12:41:36.768480Z",
     "iopub.status.idle": "2025-05-08T12:41:37.241552Z",
     "shell.execute_reply": "2025-05-08T12:41:37.240370Z"
    },
    "papermill": {
     "duration": 0.494273,
     "end_time": "2025-05-08T12:41:37.243391",
     "exception": false,
     "start_time": "2025-05-08T12:41:36.749118",
     "status": "completed"
    },
    "tags": []
   },
   "outputs": [
    {
     "name": "stdout",
     "output_type": "stream",
     "text": [
      "\n",
      "--- Identifikasi Model Terbaik ---\n",
      "\n",
      "--- Model Terbaik: Gradient Boosted Trees ---\n",
      "AUC: 0.9943\n",
      "Accuracy: 0.9995\n",
      "F1 Score: 0.9995\n"
     ]
    }
   ],
   "source": [
    "# Identifikasi model terbaik berdasarkan AUC\n",
    "metrics_df = spark.createDataFrame([\n",
    "    (\"Logistic Regression\", lr_auc),\n",
    "    (\"Random Forest\", rf_auc),\n",
    "    (\"Gradient Boosted Trees\", gbt_auc)\n",
    "], [\"Model\", \"AUC\"])\n",
    "\n",
    "# Tampilkan model terbaik\n",
    "print(\"\\n--- Identifikasi Model Terbaik ---\")\n",
    "best_model_info = metrics_df.orderBy(col(\"AUC\").desc()).first()\n",
    "best_model_name = best_model_info[\"Model\"]\n",
    "best_auc = best_model_info[\"AUC\"]\n",
    "\n",
    "# Tentukan best model dan metrics-nya\n",
    "if best_model_name == \"Logistic Regression\":\n",
    "    best_model_pipeline = lr_model\n",
    "    best_predictions = lr_predictions\n",
    "    best_accuracy = lr_accuracy\n",
    "    best_f1 = lr_f1\n",
    "elif best_model_name == \"Random Forest\":\n",
    "    best_model_pipeline = rf_model\n",
    "    best_predictions = rf_predictions\n",
    "    best_accuracy = rf_accuracy\n",
    "    best_f1 = rf_f1\n",
    "else:  # Gradient Boosted Trees\n",
    "    best_model_pipeline = gbt_model\n",
    "    best_predictions = gbt_predictions\n",
    "    best_accuracy = gbt_accuracy\n",
    "    best_f1 = gbt_f1\n",
    "\n",
    "print(f\"\\n--- Model Terbaik: {best_model_name} ---\")\n",
    "print(f\"AUC: {best_auc:.4f}\")\n",
    "print(f\"Accuracy: {best_accuracy:.4f}\")\n",
    "print(f\"F1 Score: {best_f1:.4f}\")"
   ]
  },
  {
   "cell_type": "code",
   "execution_count": 14,
   "id": "96fcc13a",
   "metadata": {
    "execution": {
     "iopub.execute_input": "2025-05-08T12:41:37.277905Z",
     "iopub.status.busy": "2025-05-08T12:41:37.277554Z",
     "iopub.status.idle": "2025-05-08T12:41:37.287589Z",
     "shell.execute_reply": "2025-05-08T12:41:37.286569Z"
    },
    "papermill": {
     "duration": 0.029164,
     "end_time": "2025-05-08T12:41:37.289389",
     "exception": false,
     "start_time": "2025-05-08T12:41:37.260225",
     "status": "completed"
    },
    "tags": []
   },
   "outputs": [],
   "source": [
    "# Visualisasi metrik performa model (menggunakan pandas dan matplotlib)\n",
    "models = [\"Logistic Regression\", \"Random Forest\", \"Gradient Boosted Trees\", f\"Best Model ({best_model_name})\"]\n",
    "aucs = [lr_auc, rf_auc, gbt_auc, best_auc]\n",
    "accuracies = [lr_accuracy, rf_accuracy, gbt_accuracy, best_accuracy]\n",
    "f1_scores = [lr_f1, rf_f1, gbt_f1, best_f1]\n",
    "\n",
    "metrics_df = pd.DataFrame({\n",
    "    'Model': models,\n",
    "    'AUC': aucs,\n",
    "    'Accuracy': accuracies,\n",
    "    'F1 Score': f1_scores\n",
    "})"
   ]
  },
  {
   "cell_type": "code",
   "execution_count": 15,
   "id": "22e3b649",
   "metadata": {
    "execution": {
     "iopub.execute_input": "2025-05-08T12:41:37.325347Z",
     "iopub.status.busy": "2025-05-08T12:41:37.324604Z",
     "iopub.status.idle": "2025-05-08T12:41:37.733299Z",
     "shell.execute_reply": "2025-05-08T12:41:37.732237Z"
    },
    "papermill": {
     "duration": 0.428991,
     "end_time": "2025-05-08T12:41:37.734709",
     "exception": false,
     "start_time": "2025-05-08T12:41:37.305718",
     "status": "completed"
    },
    "tags": []
   },
   "outputs": [
    {
     "data": {
      "image/png": "[encoded data removed]",
      "text/plain": [
       "<Figure size 1200x600 with 1 Axes>"
      ]
     },
     "metadata": {},
     "output_type": "display_data"
    }
   ],
   "source": [
    "# Plot hasil\n",
    "fig, ax = plt.subplots(figsize=(12, 6))\n",
    "ind = np.arange(len(models))\n",
    "width = 0.25\n",
    "\n",
    "ax.bar(ind - width, aucs, width, label='AUC')\n",
    "ax.bar(ind, accuracies, width, label='Accuracy')\n",
    "ax.bar(ind + width, f1_scores, width, label='F1 Score')\n",
    "\n",
    "ax.set_ylabel('Score')\n",
    "ax.set_title('Performance Comparison of Fraud Detection Models')\n",
    "ax.set_xticks(ind)\n",
    "ax.set_xticklabels(models, rotation=45, ha='right')\n",
    "ax.legend()\n",
    "ax.grid(axis='y', linestyle='--', alpha=0.7)\n",
    "\n",
    "plt.tight_layout()\n",
    "plt.show()"
   ]
  },
  {
   "cell_type": "code",
   "execution_count": 16,
   "id": "49bee26b",
   "metadata": {
    "execution": {
     "iopub.execute_input": "2025-05-08T12:41:37.844476Z",
     "iopub.status.busy": "2025-05-08T12:41:37.844074Z",
     "iopub.status.idle": "2025-05-08T12:41:41.140147Z",
     "shell.execute_reply": "2025-05-08T12:41:41.138994Z"
    },
    "papermill": {
     "duration": 3.317431,
     "end_time": "2025-05-08T12:41:41.141974",
     "exception": false,
     "start_time": "2025-05-08T12:41:37.824543",
     "status": "completed"
    },
    "tags": []
   },
   "outputs": [
    {
     "name": "stderr",
     "output_type": "stream",
     "text": [
      "                                                                                                    \r"
     ]
    },
    {
     "name": "stdout",
     "output_type": "stream",
     "text": [
      "\n",
      "Model terbaik (Gradient Boosted Trees) telah disimpan di: best_fraud_detection_model\n"
     ]
    }
   ],
   "source": [
    "# Simpan model terbaik\n",
    "best_model_path = \"best_fraud_detection_model\"\n",
    "best_model_pipeline.write().overwrite().save(best_model_path)\n",
    "print(f\"\\nModel terbaik ({best_model_name}) telah disimpan di: {best_model_path}\")"
   ]
  },
  {
   "cell_type": "code",
   "execution_count": 17,
   "id": "67c8bf5c",
   "metadata": {
    "execution": {
     "iopub.execute_input": "2025-05-08T12:41:41.180548Z",
     "iopub.status.busy": "2025-05-08T12:41:41.180128Z",
     "iopub.status.idle": "2025-05-08T12:41:42.233790Z",
     "shell.execute_reply": "2025-05-08T12:41:42.232635Z"
    },
    "papermill": {
     "duration": 1.074609,
     "end_time": "2025-05-08T12:41:42.235677",
     "exception": false,
     "start_time": "2025-05-08T12:41:41.161068",
     "status": "completed"
    },
    "tags": []
   },
   "outputs": [],
   "source": [
    "# Menutup spark session\n",
    "spark.stop()"
   ]
  }
 ],
 "metadata": {
  "kaggle": {
   "accelerator": "none",
   "dataSources": [
    {
     "datasetId": 2093649,
     "sourceId": 3478314,
     "sourceType": "datasetVersion"
    }
   ],
   "dockerImageVersionId": 31012,
   "isGpuEnabled": false,
   "isInternetEnabled": true,
   "language": "python",
   "sourceType": "notebook"
  },
  "kernelspec": {
   "display_name": "Python 3",
   "language": "python",
   "name": "python3"
  },
  "language_info": {
   "codemirror_mode": {
    "name": "ipython",
    "version": 3
   },
   "file_extension": ".py",
   "mimetype": "text/x-python",
   "name": "python",
   "nbconvert_exporter": "python",
   "pygments_lexer": "ipython3",
   "version": "3.11.11"
  },
  "papermill": {
   "default_parameters": {},
   "duration": 895.283512,
   "end_time": "2025-05-08T12:41:44.877008",
   "environment_variables": {},
   "exception": null,
   "input_path": "__notebook__.ipynb",
   "output_path": "__notebook__.ipynb",
   "parameters": {},
   "start_time": "2025-05-08T12:26:49.593496",
   "version": "2.6.0"
  }
 },
 "nbformat": 4,
 "nbformat_minor": 5
}
